{
 "cells": [
  {
   "cell_type": "markdown",
   "id": "0",
   "metadata": {},
   "source": [
    "# aMapReduce Framework\n",
    "\n",
    "Agentics enable scalable execution of LLM workflows by implementing a MapReduce framework which enable the async use of LLM blended with regular python code."
   ]
  },
  {
   "cell_type": "code",
   "execution_count": null,
   "id": "1",
   "metadata": {},
   "outputs": [],
   "source": [
    "! uv pip install agentics-py\n",
    "\n",
    "\n",
    "import os\n",
    "from pathlib import Path\n",
    "import sys\n",
    "from getpass import getpass\n",
    "\n",
    "from dotenv import find_dotenv, load_dotenv\n",
    "\n",
    "CURRENT_PATH = \"\"\n",
    "\n",
    "IN_COLAB = \"google.colab\" in sys.modules\n",
    "print(\"In Colab:\", IN_COLAB)\n",
    "\n",
    "\n",
    "if IN_COLAB:\n",
    "    CURRENT_PATH = \"/content/drive/MyDrive/\"\n",
    "    # Mount your google drive\n",
    "    from google.colab import drive\n",
    "\n",
    "    drive.mount(\"/content/drive\")\n",
    "    from google.colab import userdata\n",
    "\n",
    "    os.environ[\"GEMINI_API_KEY\"] = userdata.get(\"GEMINI_API_KEY\")\n",
    "else:\n",
    "\n",
    "    CURRENT_PATH = os.getcwd()\n",
    "    load_dotenv(find_dotenv())\n",
    "\n",
    "if not os.getenv(\"GEMINI_API_KEY\"):\n",
    "    os.environ[\"GEMINI_API_KEY\"] = getpass(\"Enter your GEMINI_API_KEY:\")\n",
    "\n",
    "base = Path(CURRENT_PATH)"
   ]
  },
  {
   "cell_type": "markdown",
   "id": "2",
   "metadata": {},
   "source": [
    "Let us first define an aType to represent StockMarket Data for the DowJones index, and populate it with historical data"
   ]
  },
  {
   "cell_type": "code",
   "execution_count": null,
   "id": "3",
   "metadata": {},
   "outputs": [],
   "source": [
    "from agentics import AG\n",
    "from typing import Optional\n",
    "from pydantic import BaseModel, Field\n",
    "from datetime import datetime\n",
    "\n",
    "## Define the data model for stock market data\n",
    "\n",
    "\n",
    "class VolalityExplantionReport(BaseModel):\n",
    "    abnormal_trade_volume_explanation: Optional[str] = Field(\n",
    "        None,\n",
    "        description=\"\"\"A detailed explanation of any abnormal trade volume for the day.\"\"\",\n",
    "    )\n",
    "    market_state: Optional[str] = Field(\n",
    "        None,\n",
    "        description=\"The market state for the day, e.g., Bullish, Bearish, Volatile, Stable.\",\n",
    "    )\n",
    "    other_observations: Optional[str] = Field(\n",
    "        None,\n",
    "        description=\"\"\"Any other notable observations about the stock market for the day.\"\"\",\n",
    "    )\n",
    "    relevant_events: Optional[list[str]] = Field(\n",
    "        None,\n",
    "        description=\"\"\"A list of relevant events (e.g., economic reports, geopolitical events) that may have influenced the stock market for the day.\"\"\",\n",
    "    )\n",
    "    news_extracts: Optional[str] = Field(\n",
    "        None,\n",
    "        description=\"\"\"Text reporting a list of news headlines relevant to the explain the findings above.\"\"\",\n",
    "    )\n",
    "\n",
    "\n",
    "# class StockMarketState(BaseModel):\n",
    "#     date: Optional[str] = None\n",
    "#     open: Optional[float] = None\n",
    "#     high: Optional[float] = None\n",
    "#     low: Optional[float] = None\n",
    "#     close: Optional[float] = None\n",
    "#     volume: Optional[float] = None\n",
    "#     daily_range: Optional[float] = Field(None,\n",
    "#         description=\"\"\"The difference between the high and low prices for the day.\"\"\")\n",
    "#     news: Optional[str] = Field(None,\n",
    "#         description=\"\"\"Text reporting a list of news headlines relevant to the stock for the day.\"\"\")\n",
    "#     explanation_report: Optional[VolalityExplantionReport] = Field(None,\n",
    "#         description=\"A detailed explanation of the stock market state for the day.\")\n",
    "\n",
    "\n",
    "## import the data"
   ]
  },
  {
   "cell_type": "code",
   "execution_count": null,
   "id": "4",
   "metadata": {},
   "outputs": [],
   "source": [
    "from pydantic import BaseModel, Field\n",
    "from typing import Optional\n",
    "from agentics import AG\n",
    "\n",
    "\n",
    "class MarketSentiment(BaseModel):\n",
    "    # Headlines: Optional[str] = Field(None, description=\"A list of news headlines relevant to the stock market for the day.\")\n",
    "    start_date: Optional[str] = Field(\n",
    "        None, description=\"The starting date of the analysis period.\"\n",
    "    )\n",
    "    end_date: Optional[str] = Field(\n",
    "        None, description=\"The ending date of the  analysis period.\"\n",
    "    )\n",
    "    market_sentiment: Optional[str] = Field(\n",
    "        None,\n",
    "        description=\"The general market sentiment for the day, e.g., Positive, Negative, Neutral.\",\n",
    "    )\n",
    "    market_sentiment_explanation: Optional[str] = Field(\n",
    "        None,\n",
    "        description=\"Explain the main reason for the market sentiment judgment you just expressed.\",\n",
    "    )\n",
    "\n",
    "\n",
    "market_dataset = AG.from_csv(\n",
    "    \"./data/macro_economic_analysis/market_factors_new.csv\"\n",
    ")\n",
    "# sentiment = await (AG(atype=MarketSentiment)<< market_dataset)\n",
    "# sentiment.pretty_print()\n",
    "sentiment = await (\n",
    "    AG(atype=MarketSentiment, transduction_type=\"areduce\")\n",
    "    << market_dataset.filter_states(start=100, end=130)\n",
    ")\n",
    "sentiment.pretty_print()\n",
    "print(sentiment.areduce_batches)"
   ]
  },
  {
   "cell_type": "code",
   "execution_count": null,
   "id": "5",
   "metadata": {},
   "outputs": [],
   "source": [
    "from agentics import AG"
   ]
  },
  {
   "cell_type": "markdown",
   "id": "6",
   "metadata": {},
   "source": [
    "## Amap\n",
    "\n",
    "Amap functions enable async execution of functions over all the states of an AG. Agentics supports 1:1 maps that maps all states of an AG into states of the same type.\n",
    "\n",
    "In the following example we define a simple function to compute the daily_range of the stock and we pass that to an amap fuction which applies that to all states asyncronously"
   ]
  },
  {
   "cell_type": "code",
   "execution_count": null,
   "id": "7",
   "metadata": {},
   "outputs": [],
   "source": [
    "## Note that input and output are both StockMarketState objects\n",
    "async def get_daily_variation_percentage(state: StockMarketState) -> StockMarketState:\n",
    "    state.daily_range = (float(state.high) - float(state.low)) / float(state.low) * 100\n",
    "    return state\n",
    "\n",
    "\n",
    "## Apply the function to all states using amap\n",
    "dj_data = await dj_data.amap(get_daily_variation_percentage)\n",
    "\n",
    "for state in dj_data[:3]:\n",
    "    print(f\"Date: {state.date}, Daily Range: {state.daily_range}\")"
   ]
  },
  {
   "cell_type": "markdown",
   "id": "8",
   "metadata": {},
   "source": [
    "## aReduce"
   ]
  },
  {
   "cell_type": "markdown",
   "id": "9",
   "metadata": {},
   "source": [
    "Reduce functions enable executing operations on the entire list of elements (states) within an Agentics group. Although reduce operations are intrinsically synchronous—since they consider all states at once—they are defined as async functions to allow for internal async calls (such as fetching news or running LLMs).\n",
    "\n",
    "In the following example we will use a reduce function to analyze get the top 10 days with highest variation in the market"
   ]
  },
  {
   "cell_type": "code",
   "execution_count": null,
   "id": "10",
   "metadata": {},
   "outputs": [],
   "source": [
    "async def get_highest_volatility_days(\n",
    "    states: list[StockMarketState],\n",
    ") -> list[StockMarketState]:\n",
    "\n",
    "    # sort the states by volatility and return the top 10, define a new AG with these states\n",
    "    return sorted(\n",
    "        states,\n",
    "        key=lambda x: abs(x.daily_range) if x.daily_range is not None else 0,\n",
    "        reverse=True,\n",
    "    )[:10]\n",
    "\n",
    "\n",
    "# apply the reduce function to get the top 10 days with highest volatility\n",
    "highest_volatility_days = await dj_data.areduce(get_highest_volatility_days)\n",
    "print(highest_volatility_days.pretty_print())"
   ]
  },
  {
   "cell_type": "markdown",
   "id": "11",
   "metadata": {},
   "source": [
    "Now let's use self transduction to provide an explanation for the market volatility"
   ]
  },
  {
   "cell_type": "markdown",
   "id": "12",
   "metadata": {},
   "source": [
    "## Complex AMAPs\n",
    "\n",
    "aMaps function can contain external API and LLM calls. This way we can use agentics as a scaleout frameworks for complex workflows. "
   ]
  },
  {
   "cell_type": "code",
   "execution_count": null,
   "id": "13",
   "metadata": {},
   "outputs": [],
   "source": [
    "from ddgs import DDGS\n",
    "import json\n",
    "\n",
    "\n",
    "## Define a function to get news for a given date using the DDGS search engine\n",
    "## Note that the similar functionalities can be implemented using MCP tools in AGs\n",
    "async def get_news(state):\n",
    "    state.news = str(\n",
    "        DDGS().text(\n",
    "            f\"What happended to the stock market and dow jones on {state.date}\",\n",
    "            max_results=10,\n",
    "        )\n",
    "    )\n",
    "    return state\n",
    "\n",
    "\n",
    "# Now get news for the top 10 days with highest volatility using amap\n",
    "highest_volatility_days = await highest_volatility_days.amap(get_news)\n",
    "\n",
    "# print the first result for brevity\n",
    "print(highest_volatility_days[0].news)"
   ]
  },
  {
   "cell_type": "code",
   "execution_count": null,
   "id": "14",
   "metadata": {},
   "outputs": [],
   "source": [
    "from agentics.core.llm_connections import get_llm_provider\n",
    "\n",
    "highest_volatility_days.instructions = \"\"\"Explain the reasons why there was such high volatility\n",
    "based on the news provided.  down or up \n",
    "given the high volatility in the stock market on this day based on the news provided. \n",
    "Provide a concise summary.\"\"\"\n",
    "highest_volatility_days.llm = (\n",
    "    get_llm_provider()\n",
    ")  ## You can choose between \"openai\", \"watsonx\", \"gemini\", \"vllm_crewai\"\n",
    "VolalityExplantionReport = await highest_volatility_days.self_transduction(\n",
    "    [\"date\", \"open\", \"high\", \"low\", \"close\", \"volume\", \"daily_range\", \"news\"],\n",
    "    [\"explanation_report\"],\n",
    ")\n",
    "\n",
    "\n",
    "VolalityExplantionReport.pretty_print()"
   ]
  },
  {
   "cell_type": "markdown",
   "id": "15",
   "metadata": {},
   "source": [
    "## Well Done\n",
    "You are now fully equipped to work with agentics and apply it to your data.\n",
    "Congratulations and please contribute back to the community if you feel this is exciting. "
   ]
  }
 ],
 "metadata": {
  "kernelspec": {
   "display_name": ".venv",
   "language": "python",
   "name": "python3"
  },
  "language_info": {
   "codemirror_mode": {
    "name": "ipython",
    "version": 3
   },
   "file_extension": ".py",
   "mimetype": "text/x-python",
   "name": "python",
   "nbconvert_exporter": "python",
   "pygments_lexer": "ipython3",
   "version": "3.12.9"
  }
 },
 "nbformat": 4,
 "nbformat_minor": 5
}
