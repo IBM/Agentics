{
 "cells": [
  {
   "cell_type": "markdown",
   "id": "ff971868",
   "metadata": {},
   "source": [
    "# Agent with tools\n",
    "This notebook illustrates how to build a simple agent capable of using tools. \n",
    "We'll use crewAI to illustrate how agentics implements logical transduction"
   ]
  },
  {
   "cell_type": "markdown",
   "id": "7476ae5c",
   "metadata": {},
   "source": [
    "## Initialize environment\n",
    "\n",
    "Note: Before executing this notebook on colab, copy your .env file in /content/drive/MyDrive/.env or otherwise you'll be prompted to enter your GEMINI_API_KEY all the times."
   ]
  },
  {
   "cell_type": "code",
   "execution_count": 2,
   "id": "809cc27f",
   "metadata": {},
   "outputs": [
    {
     "name": "stdout",
     "output_type": "stream",
     "text": [
      "\u001b[2mUsing Python 3.12.11 environment at: /Users/gliozzo/miniforge3/envs/agentics\u001b[0m\n",
      "\u001b[2mAudited \u001b[1m1 package\u001b[0m \u001b[2min 62ms\u001b[0m\u001b[0m\n",
      "In Colab: False\n"
     ]
    }
   ],
   "source": [
    "! uv pip install agentics-py\n",
    "\n",
    "import os\n",
    "import sys\n",
    "from getpass import getpass\n",
    "\n",
    "from dotenv import find_dotenv, load_dotenv\n",
    "\n",
    "CURRENT_PATH = \"\"\n",
    "\n",
    "IN_COLAB = \"google.colab\" in sys.modules\n",
    "print(\"In Colab:\", IN_COLAB)\n",
    "\n",
    "\n",
    "if IN_COLAB:\n",
    "    CURRENT_PATH = \"/content/drive/MyDrive/\"\n",
    "    # Mount your google drive\n",
    "    load_dotenv(\"/content/drive/MyDrive/.env\")\n",
    "    from google.colab import drive\n",
    "\n",
    "    drive.mount(\"/content/drive\")\n",
    "else:\n",
    "    load_dotenv(find_dotenv())\n",
    "\n",
    "if not os.getenv(\"GEMINI_API_KEY\"):\n",
    "    os.environ[\"GEMINI_API_KEY\"] = getpass(\"Enter your GEMINI_API_KEY:\")"
   ]
  },
  {
   "cell_type": "markdown",
   "id": "a84b9a69",
   "metadata": {},
   "source": [
    "## Create a new tool\n",
    "Wrap the Duck Duck Go Search API call into a CrewAI tool using the @tool decorator. Similarly you can turn any function of your choice into a tool. "
   ]
  },
  {
   "cell_type": "code",
   "execution_count": 3,
   "id": "62c0a4a0",
   "metadata": {},
   "outputs": [
    {
     "name": "stderr",
     "output_type": "stream",
     "text": [
      "2025-09-09 11:33:36.214 | DEBUG    | agentics.core.llm_connections:<module>:90 - AGENTICS is connecting to the following LLM API providers:\n",
      "2025-09-09 11:33:36.215 | DEBUG    | agentics.core.llm_connections:<module>:93 - 0 - WatsonX\n",
      "2025-09-09 11:33:36.215 | DEBUG    | agentics.core.llm_connections:<module>:98 - 1 - Gemini\n",
      "2025-09-09 11:33:36.215 | DEBUG    | agentics.core.llm_connections:<module>:102 - 2 - OpenAI\n",
      "2025-09-09 11:33:36.215 | DEBUG    | agentics.core.llm_connections:<module>:104 - Please add API keys in .env file to add or disconnect providers.\n",
      "2025-09-09 11:33:36.224 | DEBUG    | agentics.core.llm_connections:get_llm_provider:29 - No LLM provider specified. Using the first available provider.\n",
      "2025-09-09 11:33:36.224 | DEBUG    | agentics.core.llm_connections:get_llm_provider:31 - Available LLM providers: ['watsonx', 'gemini', 'openai']. Using 'watsonx'\n"
     ]
    }
   ],
   "source": [
    "from agentics.core.llm_connections import get_llm_provider\n",
    "from crewai.tools import tool\n",
    "from ddgs import DDGS\n",
    "\n",
    "## Define a Crew AI tool to get news for a given date using the DDGS search engine\n",
    "@tool(\"fetch_data_async\")\n",
    "def web_search(query: str) -> str:\n",
    "    \"\"\" Fetch web search results for the given query using DDGS.\"\"\"\n",
    "    return str(DDGS().text(query, max_results=10))    "
   ]
  },
  {
   "cell_type": "markdown",
   "id": "401a988a",
   "metadata": {},
   "source": [
    "## Define an Agent\n",
    "\n",
    "Use crew AI agent directly create a document searcher agent, who is instructed to use the web_search tool defined above. Note that reasoning steps and other parameters can be customized. \n"
   ]
  },
  {
   "cell_type": "code",
   "execution_count": null,
   "id": "c00883ed",
   "metadata": {},
   "outputs": [],
   "source": [
    "from crewai import Agent\n",
    "doc_agent = Agent(\n",
    "    role=\"Doc Searcher\",\n",
    "    goal=\"Find answers to questions from the user using the available web search tool.\",\n",
    "    backstory=\"A helpful assistant for extensive web search reports.\",\n",
    "    tools=[web_search],\n",
    "    reasoning=True,\n",
    "    reasoning_steps=2,\n",
    "    verbose=True,\n",
    "    llm=get_llm_provider()\n",
    ")"
   ]
  },
  {
   "cell_type": "markdown",
   "id": "35231031",
   "metadata": {},
   "source": [
    "## Define a Task"
   ]
  },
  {
   "cell_type": "code",
   "execution_count": null,
   "id": "e47929d3",
   "metadata": {},
   "outputs": [],
   "source": [
    "from crewai import Task\n",
    "\n",
    "doc_task = Task(\n",
    "    description=\"\"\"Your task is to perform an extensive web search about\n",
    "    the following question {question} and return a document providing answers to \n",
    "    the questions that explore several interesting aspects, each of them supported \n",
    "    by pertinent information from web search.  \"\"\",\n",
    "    expected_output=\"\"\"A markdown document with introduction and different sections\"\"\",\n",
    "    agent=doc_agent,\n",
    "    markdown=True\n",
    ")"
   ]
  },
  {
   "cell_type": "markdown",
   "id": "49d8f051",
   "metadata": {},
   "source": [
    "## Define a Crew\n",
    "\n",
    "Crews are enviroments in which tasks are assigned to different agents following different policies. In this simple example we define a crew with a single agent and single task. "
   ]
  },
  {
   "cell_type": "code",
   "execution_count": null,
   "id": "5c0eeea7",
   "metadata": {},
   "outputs": [],
   "source": [
    "from crewai import Crew\n",
    "\n",
    "crew = Crew(\n",
    "    agents=[doc_agent],\n",
    "    tasks=[doc_task],\n",
    "    verbose=True,\n",
    ")"
   ]
  },
  {
   "cell_type": "markdown",
   "id": "eb958863",
   "metadata": {},
   "source": [
    "## Kickoff the crew\n",
    "\n",
    "Crews are ultimatelly analoguous to very sophisticated function definitions, whose inputs are json dictonaries. In order to put them in action you should kickoff them providing input parameters.\n",
    "\n",
    "In the Agent Trace stack you can see the plan made by the agent and the different execution steps which might involve tool calls."
   ]
  },
  {
   "cell_type": "code",
   "execution_count": null,
   "id": "0fdf9c8d",
   "metadata": {},
   "outputs": [],
   "source": [
    "result = crew.kickoff(inputs={\"question\": input(\"Ask your question> \") })"
   ]
  },
  {
   "cell_type": "markdown",
   "id": "69f79db9",
   "metadata": {},
   "source": [
    "## Display the results as markdown"
   ]
  },
  {
   "cell_type": "code",
   "execution_count": null,
   "id": "c89d8b07",
   "metadata": {},
   "outputs": [],
   "source": [
    "from IPython.display import Markdown, display\n",
    "\n",
    "display(Markdown(result.raw))"
   ]
  },
  {
   "cell_type": "markdown",
   "id": "95defc67",
   "metadata": {},
   "source": [
    "## Define a conversational agent"
   ]
  },
  {
   "cell_type": "code",
   "execution_count": null,
   "id": "c8386b74",
   "metadata": {},
   "outputs": [
    {
     "name": "stderr",
     "output_type": "stream",
     "text": [
      "2025-09-09 11:33:55.673 | DEBUG    | agentics.core.llm_connections:get_llm_provider:29 - No LLM provider specified. Using the first available provider.\n",
      "2025-09-09 11:33:55.673 | DEBUG    | agentics.core.llm_connections:get_llm_provider:31 - Available LLM providers: ['watsonx', 'gemini', 'openai']. Using 'watsonx'\n"
     ]
    }
   ],
   "source": [
    "from crewai import Agent, Task, Crew\n",
    "search_assistant = Agent(\n",
    "    role=\"Doc Searcher\",\n",
    "    goal=\"Find answers to questions from the user using the available web search tool.\",\n",
    "    backstory=\"A helpful assistant for extensive web search reports.\",\n",
    "    tools=[web_search],\n",
    "    reasoning=False,\n",
    "    verbose=True,\n",
    "    llm=get_llm_provider()\n",
    ")\n",
    "\n",
    "task = Task(\n",
    "    description=\"\"\"Your task is to help the user performing his / her web search on a deep subject.  \n",
    "     You will start by asking the user what is his / her topic of interest. Then you will ask follow up question\n",
    "     to clarity the user needs while executing your web search and provideing intermediate results to the user.\n",
    "     When you think you have enough information you will provide your final output\"\"\",\n",
    "    expected_output=\"\"\"A markdown document that summarize first the user requests, then provide a detailed answers and finally report supporting evidence from web search\"\"\",\n",
    "    agent=search_assistant,\n",
    "    human_input=True,\n",
    "    markdown=True\n",
    ")\n",
    "\n",
    "crew = Crew(\n",
    "    agents=[search_assistant],\n",
    "    tasks=[task],\n",
    "    verbose=False,\n",
    ")\n",
    "result = crew.kickoff(inputs={})"
   ]
  }
 ],
 "metadata": {
  "kernelspec": {
   "display_name": "agentics",
   "language": "python",
   "name": "python3"
  },
  "language_info": {
   "codemirror_mode": {
    "name": "ipython",
    "version": 3
   },
   "file_extension": ".py",
   "mimetype": "text/x-python",
   "name": "python",
   "nbconvert_exporter": "python",
   "pygments_lexer": "ipython3",
   "version": "3.12.11"
  }
 },
 "nbformat": 4,
 "nbformat_minor": 5
}
