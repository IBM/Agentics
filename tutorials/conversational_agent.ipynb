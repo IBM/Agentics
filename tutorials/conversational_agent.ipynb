{
 "cells": [
  {
   "cell_type": "markdown",
   "id": "92e3a769",
   "metadata": {},
   "source": [
    "## Initialize environment\n",
    "\n",
    "Note: Before executing this notebook on colab, go to the secrets on the left panel 🔐, \n",
    "click on Gemini API keys, import key from Google AI studio. \n"
   ]
  },
  {
   "cell_type": "code",
   "execution_count": 1,
   "id": "c2f4e70d",
   "metadata": {},
   "outputs": [
    {
     "name": "stdout",
     "output_type": "stream",
     "text": [
      "\u001b[2mUsing Python 3.12.11 environment at: /Users/nahueldefosse/workspace/nl2insights/agentics/.venv\u001b[0m\n",
      "\u001b[2mAudited \u001b[1m1 package\u001b[0m \u001b[2min 152ms\u001b[0m\u001b[0m\n",
      "In Colab: False\n"
     ]
    }
   ],
   "source": [
    "! uv pip install agentics-py\n",
    "\n",
    "import os\n",
    "import sys\n",
    "from getpass import getpass\n",
    "\n",
    "from dotenv import find_dotenv, load_dotenv\n",
    "\n",
    "CURRENT_PATH = \"\"\n",
    "\n",
    "IN_COLAB = \"google.colab\" in sys.modules\n",
    "print(\"In Colab:\", IN_COLAB)\n",
    "\n",
    "\n",
    "if IN_COLAB:\n",
    "    from google.colab import userdata\n",
    "    os.environ['GEMINI_API_KEY'] = userdata.get('GOOGLE_API_KEY')\n",
    "else:\n",
    "    load_dotenv(find_dotenv())\n",
    "\n",
    "if not os.getenv(\"GEMINI_API_KEY\"):\n",
    "    os.environ[\"GEMINI_API_KEY\"] = getpass(\"Enter your GEMINI_API_KEY:\")"
   ]
  },
  {
   "cell_type": "markdown",
   "id": "c4e87ade",
   "metadata": {},
   "source": [
    "## Create a new tool\n",
    "Wrap the Duck Duck Go Search API call into a CrewAI tool using the @tool decorator. Similarly you can turn any function of your choice into a tool. "
   ]
  },
  {
   "cell_type": "code",
   "execution_count": 2,
   "id": "b1128c1a",
   "metadata": {},
   "outputs": [],
   "source": [
    "from ddgs import DDGS\n",
    "from crewai.tools import tool\n",
    "## Define a Crew AI tool to get news for a given date using the DDGS search engine\n",
    "@tool(\"fetch_data_async\")\n",
    "def web_search(query: str) -> str:\n",
    "    \"\"\" Fetch web search results for the given query using DDGS.\"\"\"\n",
    "    return str(DDGS().text(query, max_results=10))    \n"
   ]
  },
  {
   "cell_type": "markdown",
   "id": "748092c9",
   "metadata": {},
   "source": [
    "## Define your agent, task and crew\n",
    "\n",
    "Note that the agent is provided with memory = True This provides the agent with conversation history. By activating memory=True in the crew, we make sure that the agents persists across multiple crew session calls, with different input states. "
   ]
  },
  {
   "cell_type": "code",
   "execution_count": null,
   "id": "88c23d1a",
   "metadata": {},
   "outputs": [
    {
     "name": "stderr",
     "output_type": "stream",
     "text": [
      "2025-09-10 15:29:43.087 | DEBUG    | agentics.core.llm_connections:<module>:121 - AGENTICS is connecting to the following LLM API providers:\n",
      "2025-09-10 15:29:43.087 | DEBUG    | agentics.core.llm_connections:<module>:124 - 0 - WatsonX\n",
      "2025-09-10 15:29:43.087 | DEBUG    | agentics.core.llm_connections:<module>:129 - 1 - Gemini\n",
      "2025-09-10 15:29:43.088 | DEBUG    | agentics.core.llm_connections:<module>:135 - Please add API keys in .env file to add or disconnect providers.\n",
      "2025-09-10 15:29:43.101 | DEBUG    | agentics.core.llm_connections:get_llm_provider:29 - No LLM provider specified. Using the first available provider.\n",
      "2025-09-10 15:29:43.102 | DEBUG    | agentics.core.llm_connections:get_llm_provider:31 - Available LLM providers: ['watsonx', 'gemini']. Using 'watsonx'\n",
      "2025-09-10 15:29:43.104 | DEBUG    | agentics.core.llm_connections:get_llm_provider:42 - Using specified LLM provider: watsonx\n"
     ]
    }
   ],
   "source": [
    "from crewai import Agent, Task, Crew, Process\n",
    "from agentics.core.llm_connections import get_llm_provider\n",
    "# Create a conversational agent with a friendly role/goal\n",
    "chat_agent = Agent(\n",
    "    llm=get_llm_provider(provider_name='gemini'),\n",
    "    role=\"Helpful Assistant\",\n",
    "    goal=\"Have a natural multi-turn conversation\",\n",
    "    backstory=\"You are a friendly assistant that remembers context and asks for clarification when needed.\",\n",
    "    memory=True  # enable memory for conversational context. \n",
    ")\n",
    "\n",
    "# Define a simple Task that represents a single AI response\n",
    "task = Task(\n",
    "    description=\"Respond appropriately to user's message, maintaining context. {input}\",\n",
    "    expected_output=\"A conversational reply\",\n",
    "    agent=chat_agent,\n",
    "    tools=[web_search]\n",
    ")\n",
    "\n",
    "crew = Crew(\n",
    "    agents=[chat_agent],\n",
    "    tasks=[task],\n",
    "    memory=True,  # ensure conversation state persists across turns\n",
    ")"
   ]
  },
  {
   "cell_type": "markdown",
   "id": "c3cafb0e",
   "metadata": {},
   "source": [
    "## Run the crew in a conversation loop\n",
    "Since memory has been set to True, the crew will get access to the previous round of conversations, exibiting a conversational behaviour"
   ]
  },
  {
   "cell_type": "code",
   "execution_count": 4,
   "id": "6316ff36",
   "metadata": {},
   "outputs": [
    {
     "name": "stdout",
     "output_type": "stream",
     "text": [
      "\n",
      "\n",
      "===========\n",
      "You:  what's the warlus operator\n"
     ]
    },
    {
     "name": "stderr",
     "output_type": "stream",
     "text": [
      "ERROR:root:Error during short_term search: APIStatusError.__init__() missing 2 required keyword-only arguments: 'response' and 'body'\n",
      "ERROR:root:Error during entities search: APIStatusError.__init__() missing 2 required keyword-only arguments: 'response' and 'body'\n",
      "ERROR:root:Error during short_term save: APIStatusError.__init__() missing 2 required keyword-only arguments: 'response' and 'body'\n",
      "ERROR:root:Error during entities save: APIStatusError.__init__() missing 2 required keyword-only arguments: 'response' and 'body'\n",
      "ERROR:root:Error during entities save: APIStatusError.__init__() missing 2 required keyword-only arguments: 'response' and 'body'\n",
      "ERROR:root:Error during entities save: APIStatusError.__init__() missing 2 required keyword-only arguments: 'response' and 'body'\n"
     ]
    },
    {
     "name": "stdout",
     "output_type": "stream",
     "text": [
      "\n",
      "Assistant: The walrus operator in Python, denoted by :=, is an assignment expression that allows you to assign a value to a variable within an expression. It's called the walrus operator because its syntax resembles the eyes and tusks of a walrus. This operator can simplify your code by combining assignment and use in a single step, making it useful when you need to use a value multiple times in a loop. It was introduced in Python 3.8 and is also known as an assignment expression. The walrus operator can be used in various contexts, such as in if statements, while loops, and list comprehensions, to make your code more concise and readable. For example, you can use it to assign a value to a variable and then use that variable in the same expression, like this: if (n := len(my_list)) > 5: print(f\"List has {n} elements\"). This way, you don't need to assign the value to a variable in a separate line before using it. The walrus operator is a powerful tool in Python that can help you write more efficient and readable code.\n",
      "\n",
      "\n",
      "===========\n",
      "You:  Can i use it in a for loop\n"
     ]
    },
    {
     "name": "stderr",
     "output_type": "stream",
     "text": [
      "ERROR:root:Error during short_term search: APIStatusError.__init__() missing 2 required keyword-only arguments: 'response' and 'body'\n",
      "ERROR:root:Error during entities search: APIStatusError.__init__() missing 2 required keyword-only arguments: 'response' and 'body'\n",
      "ERROR:root:Error during short_term save: APIStatusError.__init__() missing 2 required keyword-only arguments: 'response' and 'body'\n",
      "ERROR:root:Error during entities save: APIStatusError.__init__() missing 2 required keyword-only arguments: 'response' and 'body'\n",
      "ERROR:root:Error during entities save: APIStatusError.__init__() missing 2 required keyword-only arguments: 'response' and 'body'\n",
      "ERROR:root:Error during entities save: APIStatusError.__init__() missing 2 required keyword-only arguments: 'response' and 'body'\n"
     ]
    },
    {
     "name": "stdout",
     "output_type": "stream",
     "text": [
      "\n",
      "Assistant: Yes, you can use a variable in a for loop. In programming, a for loop is used to iterate over a sequence (such as a list, tuple, dictionary, set, or string) or other iterable objects. The variable you use in the for loop is often called the loop variable, and it takes the value of the next item in the sequence on each iteration of the loop. For example, if you have a list of numbers and you want to print each number, you can use a for loop with a variable to represent each number in the list. \n",
      "\n",
      "Here is a simple example in Python:\n",
      "```\n",
      "numbers = [1, 2, 3, 4, 5]\n",
      "for number in numbers:\n",
      "    print(number)\n",
      "```\n",
      "In this example, the variable \"number\" is used to represent each item in the list \"numbers\" on each iteration of the loop. This will output:\n",
      "```\n",
      "1\n",
      "2\n",
      "3\n",
      "4\n",
      "5\n",
      "```\n",
      "You can use any valid variable name in place of \"number\" to represent the items in the sequence you are iterating over. \n",
      "\n",
      "It's worth noting that the specific syntax and capabilities of for loops can vary depending on the programming language you are using. However, the basic concept of using a variable to represent each item in a sequence during iteration remains the same across most programming languages. \n",
      "\n",
      "If you have any more specific questions about using variables in for loops or any other programming concepts, feel free to ask!\n"
     ]
    },
    {
     "ename": "KeyboardInterrupt",
     "evalue": "Interrupted by user",
     "output_type": "error",
     "traceback": [
      "\u001b[31m---------------------------------------------------------------------------\u001b[39m",
      "\u001b[31mKeyboardInterrupt\u001b[39m                         Traceback (most recent call last)",
      "\u001b[36mCell\u001b[39m\u001b[36m \u001b[39m\u001b[32mIn[4]\u001b[39m\u001b[32m, line 1\u001b[39m\n\u001b[32m----> \u001b[39m\u001b[32m1\u001b[39m \u001b[38;5;28;01mwhile\u001b[39;00m user_input := \u001b[38;5;28;43minput\u001b[39;49m\u001b[43m(\u001b[49m\u001b[33;43m\"\u001b[39;49m\u001b[33;43mYou: \u001b[39;49m\u001b[33;43m\"\u001b[39;49m\u001b[43m)\u001b[49m.strip():\n\u001b[32m      2\u001b[39m     \u001b[38;5;28mprint\u001b[39m(\u001b[33m\"\u001b[39m\u001b[38;5;130;01m\\n\u001b[39;00m\u001b[38;5;130;01m\\n\u001b[39;00m\u001b[33m===========\u001b[39m\u001b[38;5;130;01m\\n\u001b[39;00m\u001b[33mYou: \u001b[39m\u001b[33m\"\u001b[39m,user_input)\n\u001b[32m      3\u001b[39m     result = crew.kickoff(inputs={\u001b[33m\"\u001b[39m\u001b[33minput\u001b[39m\u001b[33m\"\u001b[39m: user_input})\n",
      "\u001b[36mFile \u001b[39m\u001b[32m~/workspace/nl2insights/agentics/.venv/lib/python3.12/site-packages/ipykernel/kernelbase.py:1275\u001b[39m, in \u001b[36mKernel.raw_input\u001b[39m\u001b[34m(self, prompt)\u001b[39m\n\u001b[32m   1273\u001b[39m     msg = \u001b[33m\"\u001b[39m\u001b[33mraw_input was called, but this frontend does not support input requests.\u001b[39m\u001b[33m\"\u001b[39m\n\u001b[32m   1274\u001b[39m     \u001b[38;5;28;01mraise\u001b[39;00m StdinNotImplementedError(msg)\n\u001b[32m-> \u001b[39m\u001b[32m1275\u001b[39m \u001b[38;5;28;01mreturn\u001b[39;00m \u001b[38;5;28;43mself\u001b[39;49m\u001b[43m.\u001b[49m\u001b[43m_input_request\u001b[49m\u001b[43m(\u001b[49m\n\u001b[32m   1276\u001b[39m \u001b[43m    \u001b[49m\u001b[38;5;28;43mstr\u001b[39;49m\u001b[43m(\u001b[49m\u001b[43mprompt\u001b[49m\u001b[43m)\u001b[49m\u001b[43m,\u001b[49m\n\u001b[32m   1277\u001b[39m \u001b[43m    \u001b[49m\u001b[38;5;28;43mself\u001b[39;49m\u001b[43m.\u001b[49m\u001b[43m_parent_ident\u001b[49m\u001b[43m[\u001b[49m\u001b[33;43m\"\u001b[39;49m\u001b[33;43mshell\u001b[39;49m\u001b[33;43m\"\u001b[39;49m\u001b[43m]\u001b[49m\u001b[43m,\u001b[49m\n\u001b[32m   1278\u001b[39m \u001b[43m    \u001b[49m\u001b[38;5;28;43mself\u001b[39;49m\u001b[43m.\u001b[49m\u001b[43mget_parent\u001b[49m\u001b[43m(\u001b[49m\u001b[33;43m\"\u001b[39;49m\u001b[33;43mshell\u001b[39;49m\u001b[33;43m\"\u001b[39;49m\u001b[43m)\u001b[49m\u001b[43m,\u001b[49m\n\u001b[32m   1279\u001b[39m \u001b[43m    \u001b[49m\u001b[43mpassword\u001b[49m\u001b[43m=\u001b[49m\u001b[38;5;28;43;01mFalse\u001b[39;49;00m\u001b[43m,\u001b[49m\n\u001b[32m   1280\u001b[39m \u001b[43m\u001b[49m\u001b[43m)\u001b[49m\n",
      "\u001b[36mFile \u001b[39m\u001b[32m~/workspace/nl2insights/agentics/.venv/lib/python3.12/site-packages/ipykernel/kernelbase.py:1320\u001b[39m, in \u001b[36mKernel._input_request\u001b[39m\u001b[34m(self, prompt, ident, parent, password)\u001b[39m\n\u001b[32m   1317\u001b[39m \u001b[38;5;28;01mexcept\u001b[39;00m \u001b[38;5;167;01mKeyboardInterrupt\u001b[39;00m:\n\u001b[32m   1318\u001b[39m     \u001b[38;5;66;03m# re-raise KeyboardInterrupt, to truncate traceback\u001b[39;00m\n\u001b[32m   1319\u001b[39m     msg = \u001b[33m\"\u001b[39m\u001b[33mInterrupted by user\u001b[39m\u001b[33m\"\u001b[39m\n\u001b[32m-> \u001b[39m\u001b[32m1320\u001b[39m     \u001b[38;5;28;01mraise\u001b[39;00m \u001b[38;5;167;01mKeyboardInterrupt\u001b[39;00m(msg) \u001b[38;5;28;01mfrom\u001b[39;00m\u001b[38;5;250m \u001b[39m\u001b[38;5;28;01mNone\u001b[39;00m\n\u001b[32m   1321\u001b[39m \u001b[38;5;28;01mexcept\u001b[39;00m \u001b[38;5;167;01mException\u001b[39;00m:\n\u001b[32m   1322\u001b[39m     \u001b[38;5;28mself\u001b[39m.log.warning(\u001b[33m\"\u001b[39m\u001b[33mInvalid Message:\u001b[39m\u001b[33m\"\u001b[39m, exc_info=\u001b[38;5;28;01mTrue\u001b[39;00m)\n",
      "\u001b[31mKeyboardInterrupt\u001b[39m: Interrupted by user"
     ]
    }
   ],
   "source": [
    "while user_input := input(\"You: \").strip():\n",
    "    print(\"\\n\\n===========\\nYou: \",user_input)\n",
    "    result = crew.kickoff(inputs={\"input\": user_input})\n",
    "    print(\"\\nAssistant:\", result)"
   ]
  },
  {
   "cell_type": "code",
   "execution_count": null,
   "id": "8d69f719",
   "metadata": {},
   "outputs": [],
   "source": []
  }
 ],
 "metadata": {
  "kernelspec": {
   "display_name": ".venv",
   "language": "python",
   "name": "python3"
  },
  "language_info": {
   "codemirror_mode": {
    "name": "ipython",
    "version": 3
   },
   "file_extension": ".py",
   "mimetype": "text/x-python",
   "name": "python",
   "nbconvert_exporter": "python",
   "pygments_lexer": "ipython3",
   "version": "3.12.11"
  }
 },
 "nbformat": 4,
 "nbformat_minor": 5
}
