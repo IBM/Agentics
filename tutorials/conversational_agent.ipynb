{
 "cells": [
  {
   "cell_type": "markdown",
   "id": "92e3a769",
   "metadata": {},
   "source": [
    "## Initialize environment\n",
    "\n",
    "Note: Before executing this notebook on colab, copy your .env file in /content/drive/MyDrive/.env or otherwise you'll be prompted to enter your GEMINI_API_KEY all the times."
   ]
  },
  {
   "cell_type": "code",
   "execution_count": 5,
   "id": "c2f4e70d",
   "metadata": {},
   "outputs": [
    {
     "name": "stdout",
     "output_type": "stream",
     "text": [
      "\u001b[2mUsing Python 3.12.11 environment at: /Users/gliozzo/miniforge3/envs/agentics\u001b[0m\n",
      "\u001b[2mAudited \u001b[1m1 package\u001b[0m \u001b[2min 15ms\u001b[0m\u001b[0m\n",
      "In Colab: False\n"
     ]
    }
   ],
   "source": [
    "! uv pip install agentics-py\n",
    "\n",
    "import os\n",
    "import sys\n",
    "from getpass import getpass\n",
    "\n",
    "from dotenv import find_dotenv, load_dotenv\n",
    "\n",
    "CURRENT_PATH = \"\"\n",
    "\n",
    "IN_COLAB = \"google.colab\" in sys.modules\n",
    "print(\"In Colab:\", IN_COLAB)\n",
    "\n",
    "\n",
    "if IN_COLAB:\n",
    "    CURRENT_PATH = \"/content/drive/MyDrive/\"\n",
    "    # Mount your google drive\n",
    "    load_dotenv(\"/content/drive/MyDrive/.env\")\n",
    "    from google.colab import drive\n",
    "\n",
    "    drive.mount(\"/content/drive\")\n",
    "else:\n",
    "    load_dotenv(find_dotenv())\n",
    "\n",
    "if not os.getenv(\"GEMINI_API_KEY\"):\n",
    "    os.environ[\"GEMINI_API_KEY\"] = getpass(\"Enter your GEMINI_API_KEY:\")"
   ]
  },
  {
   "cell_type": "markdown",
   "id": "c4e87ade",
   "metadata": {},
   "source": [
    "## Create a new tool\n",
    "Wrap the Duck Duck Go Search API call into a CrewAI tool using the @tool decorator. Similarly you can turn any function of your choice into a tool. "
   ]
  },
  {
   "cell_type": "code",
   "execution_count": 6,
   "id": "b1128c1a",
   "metadata": {},
   "outputs": [],
   "source": [
    "from ddgs import DDGS\n",
    "from crewai.tools import tool\n",
    "## Define a Crew AI tool to get news for a given date using the DDGS search engine\n",
    "@tool(\"fetch_data_async\")\n",
    "def web_search(query: str) -> str:\n",
    "    \"\"\" Fetch web search results for the given query using DDGS.\"\"\"\n",
    "    return str(DDGS().text(query, max_results=10))    \n"
   ]
  },
  {
   "cell_type": "markdown",
   "id": "748092c9",
   "metadata": {},
   "source": [
    "## Define your agent, task and crew\n",
    "\n",
    "Note that the agent is provided with memory = True This provides the agent with conversation history. By activating memory=True in the crew, we make sure that the agents persists across multiple crew session calls, with different input states. "
   ]
  },
  {
   "cell_type": "code",
   "execution_count": null,
   "id": "88c23d1a",
   "metadata": {},
   "outputs": [],
   "source": [
    "from crewai import Agent, Task, Crew, Process\n",
    "\n",
    "# Create a conversational agent with a friendly role/goal\n",
    "chat_agent = Agent(\n",
    "    role=\"Helpful Assistant\",\n",
    "    goal=\"Have a natural multi-turn conversation\",\n",
    "    backstory=\"You are a friendly assistant that remembers context and asks for clarification when needed.\",\n",
    "    memory=True  # enable memory for conversational context. \n",
    ")\n",
    "\n",
    "# Define a simple Task that represents a single AI response\n",
    "task = Task(\n",
    "    description=\"Respond appropriately to user's message, maintaining context. {input}\",\n",
    "    expected_output=\"A conversational reply\",\n",
    "    agent=chat_agent,\n",
    "    tools=[web_search]\n",
    ")\n",
    "\n",
    "crew = Crew(\n",
    "    agents=[chat_agent],\n",
    "    tasks=[task],\n",
    "    memory=True,  # ensure conversation state persists across turns\n",
    ")"
   ]
  },
  {
   "cell_type": "markdown",
   "id": "c3cafb0e",
   "metadata": {},
   "source": [
    "## Run the crew in a conversation loop\n",
    "Since memory has been set to True, the crew will get access to the previous round of conversations, exibiting a conversational behaviour"
   ]
  },
  {
   "cell_type": "code",
   "execution_count": null,
   "id": "6316ff36",
   "metadata": {},
   "outputs": [
    {
     "name": "stdout",
     "output_type": "stream",
     "text": [
      "\n",
      "\n",
      "===========\n",
      "You:  Tell me about lisa\n",
      "\n",
      "Assistant: I need more context to provide a detailed response about \"lisa.\" Are you referring to someone specific, like a public figure, a fictional character, or perhaps something related to a certain topic? Please clarify!\n",
      "\n",
      "\n",
      "===========\n",
      "You:  I mean amini\n",
      "\n",
      "Assistant: \"There are quite a few notable references to 'Amini.' One of the most significant is Mahsa Amini, a young Kurdish-Iranian woman whose death in 2022 while in police custody sparked widespread protests in Iran, highlighting issues of women's rights and government oppression. There's also Michael Amini, founder of the Amini Innovation Corp, a luxury home furnishings company. Additionally, there are various meanings associated with the name 'Amini' itself, often denoting concepts like trustworthiness in different cultures. \n",
      "\n",
      "What specific aspect of 'amini' were you thinking about? Let me know so I can provide more focused information!\"\n",
      "\n",
      "\n",
      "===========\n",
      "You:  I'm talking about lisa\n",
      "\n",
      "Assistant: It looks like you mentioned \"lisa,\" but I need a bit more context to continue our conversation effectively. Are you referring to a person, a project, or something else related to \"lisa\"? Let me know so I can better respond!\n",
      "\n",
      "\n",
      "===========\n",
      "You:  Who is Alfio Gliozzo?\n",
      "\n",
      "Assistant: Alfio Gliozzo is a scientist and technologist with more than 17 years of experience in the field of Artificial Intelligence, especially focusing on Natural Language Processing. He has worked at the Fondazione Bruno Kessler in Trento and is currently involved with IBM Research. Gliozzo's work combines research and development, showcasing a significant emphasis on cognitive technologies and their application in innovative solutions. His journey in the AI world has been described as unconventional, reflecting his diverse research interests and dedication to advancing the field. If you'd like more specific details or to know about his recent projects, feel free to ask!\n",
      "\n",
      "\n",
      "===========\n",
      "You:  Who does he works for?\n",
      "\n",
      "Assistant: It seems that my search didn't yield any relevant information about a specific person. Could you provide more context about who you are referring to with \"he\"? This would help me give you a more informative response!\n"
     ]
    }
   ],
   "source": [
    "while user_input := input(\"You: \").strip():\n",
    "    print(\"\\n\\n===========\\nYou: \",user_input)\n",
    "    result = crew.kickoff(inputs={\"input\": user_input})\n",
    "    print(\"\\nAssistant:\", result)"
   ]
  }
 ],
 "metadata": {
  "kernelspec": {
   "display_name": "agentics",
   "language": "python",
   "name": "python3"
  },
  "language_info": {
   "codemirror_mode": {
    "name": "ipython",
    "version": 3
   },
   "file_extension": ".py",
   "mimetype": "text/x-python",
   "name": "python",
   "nbconvert_exporter": "python",
   "pygments_lexer": "ipython3",
   "version": "3.12.11"
  }
 },
 "nbformat": 4,
 "nbformat_minor": 5
}
