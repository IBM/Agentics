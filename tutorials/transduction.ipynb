{
 "cells": [
  {
   "cell_type": "markdown",
   "id": "08fccf46",
   "metadata": {},
   "source": [
    "# Logical Transduction\n",
    "\n",
    "Agentics objects are capable of performing logical transduction between their states by using the provied LLMs. The logical transduction operator << can be applied between any two agentics of any type.\n",
    "\n",
    "Transduction is done between a source and a target AG when connected by the << operator.\n",
    "\n",
    "The follwing example transduces a Question into an Answer. "
   ]
  },
  {
   "cell_type": "code",
   "execution_count": null,
   "id": "069407b8",
   "metadata": {},
   "outputs": [],
   "source": [
    "! uv pip install agentics-py\n",
    "\n",
    "CURRENT_PATH=\"\"\n",
    "import os\n",
    "from dotenv import load_dotenv, find_dotenv\n",
    "import sys\n",
    "\n",
    "IN_COLAB = 'google.colab' in sys.modules\n",
    "print(\"In Colab:\", IN_COLAB)\n",
    "\n",
    "IN_COLAB = 'google.colab' in sys.modules\n",
    "print(\"In Colab:\", IN_COLAB)\n",
    "\n",
    "if IN_COLAB: \n",
    "    CURRENT_PATH = \"/content/drive/MyDrive/\"\n",
    "    # Mount your google drive\n",
    "    load_dotenv(\"/content/drive/MyDrive/.env\")\n",
    "    from google.colab import drive\n",
    "    drive.mount('/content/drive')\n",
    "else: load_dotenv(find_dotenv())\n",
    "\n",
    "\n",
    "\n",
    "if not os.getenv(\"GEMINI_API_KEY\"):\n",
    "    os.environ[\"GEMINI_API_KEY\"] = input(\"Enter your GEMINI_API_KEY:\")"
   ]
  },
  {
   "cell_type": "code",
   "execution_count": null,
   "id": "7b080d14",
   "metadata": {},
   "outputs": [],
   "source": [
    "from agentics import Agentics as AG\n",
    "from pydantic import BaseModel\n",
    "from typing import Optional\n",
    "from agentics.core.llm_connections import get_llm_provider\n",
    "\n",
    "\n",
    "## Define target and source types\n",
    "class Answer(BaseModel):\n",
    "    answer: Optional[str] = None\n",
    "    justification: Optional[str] = None\n",
    "    confidence: Optional[float] = None\n",
    "\n",
    "class Question(BaseModel):\n",
    "    question :Optional[str] = None\n",
    "\n",
    "\n",
    "## Instantiate the source AG with a question\n",
    "source = AG(atype=Question,\n",
    "            llm=get_llm_provider(), ## You can choose between \"openai\" (i.e. get_llm_provider(\"openai\")), \"watsonx\", \"gemini\", \"vllm_crewai\"\n",
    "                                    ## set verbose to true to see the internal agents log. This is optional.     \n",
    "            states=[Question(question=\"What is the capital of Italy?\")])\n",
    "\n",
    "## Instantiate the target AG with a target type. No instances are needed for zero shot transduction\n",
    "target= AG(atype=Answer,  ## You can choose between \"openai\", \"watsonx\", \"gemini\", \"vllm_crewai\"\n",
    "           verbose_agent=True)   ## set verbose to true to see the internal agents log \n",
    "\n",
    "# Execute logical transduction by using the << operator between source and target AG\n",
    "answer = await (target << source) ## Note that << operator is asyncronus and the results should be awaited\n",
    "\n",
    "# Print the results of the transduction\n",
    "print(answer.pretty_print()) ## Note that confidence is a float number, while other fields are strings"
   ]
  },
  {
   "cell_type": "markdown",
   "id": "b8681fea",
   "metadata": {},
   "source": [
    "In agentics, lists of strings can be used as sources instead of AG. Those are provided as input for the transduction."
   ]
  },
  {
   "cell_type": "code",
   "execution_count": null,
   "id": "66f8d2e0",
   "metadata": {},
   "outputs": [],
   "source": [
    "answer = await (AG(atype=Answer) << [\"Where is Paris?\"]) \n",
    "print(answer.pretty_print())"
   ]
  },
  {
   "cell_type": "markdown",
   "id": "2ade51f3",
   "metadata": {},
   "source": [
    "## Asyncronous Transduction\n",
    "\n",
    "When the source AG has more than one state, the << operator perform asyncronous transfuction for each state to the target type. Transductions are executed in batches."
   ]
  },
  {
   "cell_type": "code",
   "execution_count": null,
   "id": "b4ec8966",
   "metadata": {},
   "outputs": [],
   "source": [
    "target = AG(atype=Answer, \n",
    "            batch_size = 4, # This will process 2 questions per batch\n",
    "            verbose_transduction = True, # Set to verbose to see transduction timings and other logs\n",
    "            transduction_logs_path = \"/tmp/answers.jsonl\") # Optionally write longs of transductions on the specified path\n",
    "questions= [\"Where is Paris?\", \n",
    "            \"Who is Alberto Sordi\", \n",
    "            \"When will climate change be irreverible?\",\n",
    "            \"Who is the best Jeopardy player?\"]\n",
    "\n",
    "answers = await (target << questions)\n",
    "\n",
    "print(answer.pretty_print())\n",
    "\n",
    "target.batch_size = 4  ## Processing 4 questions in parallel often results in\n",
    "                                    ## lower execution time\n",
    "                                    ## if supported by LLM backend\n",
    "\n",
    "answers = await (target << questions)"
   ]
  },
  {
   "cell_type": "markdown",
   "id": "298be399",
   "metadata": {},
   "source": [
    "## Self Transduction\n",
    "\n",
    "Self transduction is a method of AGs that enables async execution of transductions between slots of the same object."
   ]
  },
  {
   "cell_type": "code",
   "execution_count": null,
   "id": "974143b6",
   "metadata": {},
   "outputs": [],
   "source": [
    "from pydantic import BaseModel, Field\n",
    "from typing import Optional\n",
    "\n",
    "## Define the Pydantic type\n",
    "class Movie(BaseModel):\n",
    "    movie_name: Optional[str] = None ## Note that fields name should match the column name in the input csv\n",
    "    genre: Optional[str] = None\n",
    "    description: Optional[str]=None\n",
    "    tweet: Optional[str]=Field(None,description=\"Generate a Tweet to advertise the movie\")\n",
    "\n",
    "movies = AG.from_csv( \"data/movies.csv\", atype=Movie)\n",
    "movies.verbose_transduction = True\n",
    "movies.llm=get_llm_provider(\"watsonx\") ## You can choose between \"openai\", \"watsonx\", \"gemini\", \"vllm_crewai\"\n",
    "movies.states = movies.states[:100] ## Reduce the number of input movies to 10\n",
    "\n",
    "movies_with_tweets = await movies.self_transduction(\n",
    "\n",
    "    [\"movie_name\", \"genre\", \"description\"], ## source fields\n",
    "    [\"tweet\"],                              ## target fields\n",
    "    \n",
    "    ## Note that instruction are only needed when the  relation between source and target type \n",
    "    # is not innediately clear and need to be further specified or disambiguated.\n",
    "    instructions=\"Generate a tweet to advertise the release of the input movie\")\n",
    "    \n",
    "print(movies_with_tweets.pretty_print())"
   ]
  },
  {
   "cell_type": "markdown",
   "id": "fc007db0",
   "metadata": {},
   "source": [
    "As an alternative, self transduction can be encoded using logical transduction algebra which uses the AG() notation to rebind the original data into AGs of the requested subtypes. Learn more about atype manipulation in agentics [here](link)"
   ]
  },
  {
   "cell_type": "code",
   "execution_count": null,
   "id": "8dbb1b7f",
   "metadata": {},
   "outputs": [],
   "source": [
    "\n",
    "movies = AG.from_csv( \"data/movies.csv\", atype=Movie)\n",
    "tweets = await (AG(atype=movies(\"tweet\").atype, \n",
    "                   instructions=\"Generate a tweet to advertise the release of the input movie\") \n",
    "                << movies(\"movie_name\",\"genre\",\"description\" ))\n",
    "print(tweets.pretty_print())    ## Note that differently from self transduction the output tweets \n",
    "                                ##has only the tweet field, whereas self transduction preserves \n",
    "                                ## the original source data"
   ]
  },
  {
   "cell_type": "markdown",
   "id": "c3044a80",
   "metadata": {},
   "source": [
    "## Few Shots Transduction\n",
    "\n",
    "Few shots examples can be provided for transduction by adding instances of the target instances in correspondance to their sources . Those will be used by the LLM to infer by analogy all the Null instances of the target type.\n"
   ]
  },
  {
   "cell_type": "code",
   "execution_count": null,
   "id": "a4803bba",
   "metadata": {},
   "outputs": [],
   "source": [
    "movies = AG.from_csv(\"data/movies.csv\")\n",
    "movies.states=movies.states[:20]\n",
    "## Note that obly the first 9 movies have categories\n",
    "for i, movie in enumerate(movies): print(f\"{i}: {movie.genre}\")\n",
    "## predicting new genre from given examples\n",
    "all_genres=await (movies(\"genre\")<<movies(\"movie_name\",  \"description\"))\n",
    "print(all_genres.pretty_print())\n",
    "## few shots examples can also be used in self transfuction\n",
    "movies_with_genre = await movies.self_transduction([\"movie_name\",  \"description\"],[\"genre\"])\n",
    "print(movies_with_genre.pretty_print())\n"
   ]
  }
 ],
 "metadata": {
  "kernelspec": {
   "display_name": ".venv",
   "language": "python",
   "name": "python3"
  },
  "language_info": {
   "codemirror_mode": {
    "name": "ipython",
    "version": 3
   },
   "file_extension": ".py",
   "mimetype": "text/x-python",
   "name": "python",
   "nbconvert_exporter": "python",
   "pygments_lexer": "ipython3",
   "version": "3.12.11"
  }
 },
 "nbformat": 4,
 "nbformat_minor": 5
}
