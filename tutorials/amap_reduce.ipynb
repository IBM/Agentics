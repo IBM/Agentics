{
 "cells": [
  {
   "cell_type": "markdown",
   "id": "d14bfec4",
   "metadata": {},
   "source": [
    "# aMapReduce Framework\n",
    "\n",
    "Agentics enable scalable execution of LLM workflows by implementing a MapReduce framework which enable the async use of LLM blended with regular python code."
   ]
  },
  {
   "cell_type": "code",
   "execution_count": null,
   "id": "d2c428a7",
   "metadata": {},
   "outputs": [
    {
     "name": "stdout",
     "output_type": "stream",
     "text": [
      "In Colab: False\n"
     ]
    }
   ],
   "source": [
    "! uv pip install agentics-py\n",
    "\n",
    "CURRENT_PATH=\"\"\n",
    "import os\n",
    "from dotenv import load_dotenv, find_dotenv\n",
    "import sys\n",
    "\n",
    "IN_COLAB = 'google.colab' in sys.modules\n",
    "print(\"In Colab:\", IN_COLAB)\n",
    "\n",
    "if IN_COLAB: \n",
    "    CURRENT_PATH = \"/content/drive/MyDrive/\"\n",
    "    # Mount your google drive\n",
    "    load_dotenv(\"/content/drive/MyDrive/.env\")\n",
    "    from google.colab import drive\n",
    "    drive.mount('/content/drive')\n",
    "else: load_dotenv(find_dotenv())\n",
    "\n",
    "\n",
    "\n",
    "if not os.getenv(\"GEMINI_API_KEY\"):\n",
    "    os.getenv[\"GEMINI_API_KEY\"] = input(\"Enter your GEMINI_API_KEY:\")"
   ]
  },
  {
   "cell_type": "markdown",
   "id": "90dd4694",
   "metadata": {},
   "source": [
    "Let us first define an aType to represent StockMarket Data for the DowJones index, and populate it with historical data"
   ]
  },
  {
   "cell_type": "code",
   "execution_count": 3,
   "id": "d981012d",
   "metadata": {},
   "outputs": [
    {
     "name": "stderr",
     "output_type": "stream",
     "text": [
      "2025-09-05 07:20:05.023 | DEBUG    | agentics.core.llm_connections:<module>:90 - AGENTICS is connecting to the following LLM API providers:\n",
      "2025-09-05 07:20:05.023 | DEBUG    | agentics.core.llm_connections:<module>:93 - 0 - WatsonX\n",
      "2025-09-05 07:20:05.023 | DEBUG    | agentics.core.llm_connections:<module>:98 - 1 - Gemini\n",
      "2025-09-05 07:20:05.024 | DEBUG    | agentics.core.llm_connections:<module>:102 - 2 - OpenAI\n",
      "2025-09-05 07:20:05.024 | DEBUG    | agentics.core.llm_connections:<module>:104 - Please add API keys in .env file to add or disconnect providers.\n",
      "2025-09-05 07:20:05.030 | DEBUG    | agentics.core.llm_connections:get_llm_provider:29 - No LLM provider specified. Using the first available provider.\n",
      "2025-09-05 07:20:05.030 | DEBUG    | agentics.core.llm_connections:get_llm_provider:31 - Available LLM providers: ['watsonx', 'gemini', 'openai']. Using 'watsonx'\n",
      "2025-09-05 07:20:05.033 | DEBUG    | agentics.core.agentics:from_csv:312 - Importing Agentics of type StockMarketState from CSV data/dow_jones.csv\n"
     ]
    }
   ],
   "source": [
    "from agentics import Agentics as AG\n",
    "from typing import Optional\n",
    "from pydantic import BaseModel\n",
    "\n",
    "## Define the data model for stock market data\n",
    "\n",
    "\n",
    "class StockMarketState(BaseModel):   \n",
    "    Date: Optional[str] = None\n",
    "    Open: Optional[float] = None\n",
    "    High: Optional[float] = None\n",
    "    Low: Optional[float] = None\n",
    "    Close: Optional[float]  = None\n",
    "    Volume: Optional[int] = None\n",
    "    Adj_Close: Optional[float] = None\n",
    "    daily_range: Optional[float] = None\n",
    "    News: Optional[str] = None\n",
    "    Explanation_report: Optional[str] = None\n",
    "\n",
    "\n",
    "       \n",
    "    \n",
    "## import the data\n",
    "dj_data = AG.from_csv(\"data/dow_jones.csv\", atype=StockMarketState)"
   ]
  },
  {
   "cell_type": "markdown",
   "id": "ca61713d",
   "metadata": {},
   "source": [
    "## Amap\n",
    "\n",
    "Amap functions enable async execution of functions over all the states of an AG. Agentics supports 1:1 maps that maps all states of an AG into states of the same type.\n",
    "\n",
    "In the following example we define a simple function to compute the daily_range of the stock and we pass that to an amap fuction which applies that to all states asyncronously"
   ]
  },
  {
   "cell_type": "code",
   "execution_count": 4,
   "id": "fa1e862d",
   "metadata": {},
   "outputs": [
    {
     "name": "stderr",
     "output_type": "stream",
     "text": [
      "2025-09-05 07:20:05.045 | DEBUG    | agentics.core.agentics:amap:206 - Executing amap on function <function get_daily_variation_percentage at 0x10885df80>\n",
      "2025-09-05 07:20:05.046 | DEBUG    | agentics.core.agentics:amap:231 - 100 states processed. 9.627342224121094e-06 seconds average per state in the last chunk ...\n",
      "2025-09-05 07:20:05.047 | DEBUG    | agentics.core.agentics:amap:231 - 200 states processed. 9.059906005859375e-06 seconds average per state in the last chunk ...\n",
      "2025-09-05 07:20:05.048 | DEBUG    | agentics.core.agentics:amap:231 - 300 states processed. 6.611347198486328e-06 seconds average per state in the last chunk ...\n",
      "2025-09-05 07:20:05.049 | DEBUG    | agentics.core.agentics:amap:231 - 400 states processed. 5.6290626525878905e-06 seconds average per state in the last chunk ...\n",
      "2025-09-05 07:20:05.050 | DEBUG    | agentics.core.agentics:amap:231 - 500 states processed. 6.568431854248047e-06 seconds average per state in the last chunk ...\n",
      "2025-09-05 07:20:05.051 | DEBUG    | agentics.core.agentics:amap:231 - 600 states processed. 7.078647613525391e-06 seconds average per state in the last chunk ...\n",
      "2025-09-05 07:20:05.052 | DEBUG    | agentics.core.agentics:amap:231 - 700 states processed. 6.0701370239257815e-06 seconds average per state in the last chunk ...\n",
      "2025-09-05 07:20:05.052 | DEBUG    | agentics.core.agentics:amap:231 - 800 states processed. 5.471706390380859e-06 seconds average per state in the last chunk ...\n",
      "2025-09-05 07:20:05.053 | DEBUG    | agentics.core.agentics:amap:231 - 900 states processed. 5.490779876708985e-06 seconds average per state in the last chunk ...\n",
      "2025-09-05 07:20:05.054 | DEBUG    | agentics.core.agentics:amap:231 - 1000 states processed. 5.686283111572266e-06 seconds average per state in the last chunk ...\n",
      "2025-09-05 07:20:05.054 | DEBUG    | agentics.core.agentics:amap:231 - 1100 states processed. 5.7220458984375e-06 seconds average per state in the last chunk ...\n",
      "2025-09-05 07:20:05.055 | DEBUG    | agentics.core.agentics:amap:231 - 1200 states processed. 6.7687034606933595e-06 seconds average per state in the last chunk ...\n",
      "2025-09-05 07:20:05.056 | DEBUG    | agentics.core.agentics:amap:231 - 1300 states processed. 6.260871887207032e-06 seconds average per state in the last chunk ...\n",
      "2025-09-05 07:20:05.057 | DEBUG    | agentics.core.agentics:amap:231 - 1400 states processed. 6.527900695800781e-06 seconds average per state in the last chunk ...\n",
      "2025-09-05 07:20:05.058 | DEBUG    | agentics.core.agentics:amap:231 - 1500 states processed. 6.029605865478515e-06 seconds average per state in the last chunk ...\n",
      "2025-09-05 07:20:05.059 | DEBUG    | agentics.core.agentics:amap:231 - 1600 states processed. 5.8507919311523435e-06 seconds average per state in the last chunk ...\n",
      "2025-09-05 07:20:05.059 | DEBUG    | agentics.core.agentics:amap:231 - 1700 states processed. 5.619525909423828e-06 seconds average per state in the last chunk ...\n",
      "2025-09-05 07:20:05.060 | DEBUG    | agentics.core.agentics:amap:231 - 1800 states processed. 8.690357208251954e-06 seconds average per state in the last chunk ...\n",
      "2025-09-05 07:20:05.061 | DEBUG    | agentics.core.agentics:amap:231 - 1900 states processed. 6.7687034606933595e-06 seconds average per state in the last chunk ...\n",
      "2025-09-05 07:20:05.062 | DEBUG    | agentics.core.agentics:amap:231 - 2000 states processed. 5.750656127929688e-06 seconds average per state in the last chunk ...\n"
     ]
    },
    {
     "name": "stdout",
     "output_type": "stream",
     "text": [
      "Date: 2016-07-01, Daily Range: 0.47703930117312493\n",
      "Date: 2016-06-30, Daily Range: 1.2353831025172834\n",
      "Date: 2016-06-29, Daily Range: 1.423521751672572\n"
     ]
    }
   ],
   "source": [
    "## Note that input and output are both StockMarketState objects\n",
    "async def get_daily_variation_percentage(state: StockMarketState) -> StockMarketState:\n",
    "    state.daily_range = (float(state.High) - float(state.Low)) / float(state.Low) * 100\n",
    "    return state\n",
    "\n",
    "## Apply the function to all states using amap\n",
    "dj_data.batch_size = 100\n",
    "dj_data = await dj_data.amap(get_daily_variation_percentage)\n",
    "\n",
    "for state in dj_data[:3]: \n",
    "    print(f\"Date: {state.Date}, Daily Range: {state.daily_range}\")"
   ]
  },
  {
   "cell_type": "markdown",
   "id": "e0e2bdfd",
   "metadata": {},
   "source": [
    "## aReduce"
   ]
  },
  {
   "cell_type": "markdown",
   "id": "ecb8895e",
   "metadata": {},
   "source": [
    "Reduce functions enable executing operations on the entire list of elements (states) within an Agentics group. Although reduce operations are intrinsically synchronous—since they consider all states at once—they are defined as async functions to allow for internal async calls (such as fetching news or running LLMs).\n",
    "\n",
    "In the following example we will use a reduce function to analyze get the top 10 days with highest variation in the market"
   ]
  },
  {
   "cell_type": "code",
   "execution_count": 5,
   "id": "9b73900d",
   "metadata": {},
   "outputs": [
    {
     "name": "stdout",
     "output_type": "stream",
     "text": [
      "Atype : <class '__main__.StockMarketState'>\n",
      "Date: '2008-10-10'\n",
      "Open: 8568.669922\n",
      "High: 8901.280273\n",
      "Low: 7882.509766\n",
      "Close: 8451.19043\n",
      "Volume: 674920000\n",
      "Adj_Close: null\n",
      "daily_range: 12.924443321266926\n",
      "News: null\n",
      "Explanation_report: null\n",
      "\n",
      "Date: '2008-11-13'\n",
      "Open: 8281.139648\n",
      "High: 8876.589844\n",
      "Low: 7965.419922\n",
      "Close: 8835.25\n",
      "Volume: 476600000\n",
      "Adj_Close: null\n",
      "daily_range: 11.439069514507388\n",
      "News: null\n",
      "Explanation_report: null\n",
      "\n",
      "Date: '2008-10-13'\n",
      "Open: 8462.419922\n",
      "High: 9427.990234\n",
      "Low: 8462.179688\n",
      "Close: 9387.610352\n",
      "Volume: 399290000\n",
      "Adj_Close: null\n",
      "daily_range: 11.413259722782675\n",
      "News: null\n",
      "Explanation_report: null\n",
      "\n",
      "Date: '2008-10-28'\n",
      "Open: 8178.720215\n",
      "High: 9082.080078\n",
      "Low: 8174.72998\n",
      "Close: 9065.120117\n",
      "Volume: 372160000\n",
      "Adj_Close: null\n",
      "daily_range: 11.099450382090795\n",
      "News: null\n",
      "Explanation_report: null\n",
      "\n",
      "Date: '2010-05-06'\n",
      "Open: 10868.120117\n",
      "High: 10879.759766\n",
      "Low: 9869.620117\n",
      "Close: 10520.320312\n",
      "Volume: 459890000\n",
      "Adj_Close: null\n",
      "daily_range: 10.23483819058118\n",
      "News: null\n",
      "Explanation_report: null\n",
      "\n",
      "Date: '2008-10-09'\n",
      "Open: 9261.69043\n",
      "High: 9448.139648\n",
      "Low: 8579.19043\n",
      "Close: 8579.19043\n",
      "Volume: 436740000\n",
      "Adj_Close: null\n",
      "daily_range: 10.12856894936647\n",
      "News: null\n",
      "Explanation_report: null\n",
      "\n",
      "Date: '2008-10-16'\n",
      "Open: 8577.040039\n",
      "High: 9013.269531\n",
      "Low: 8197.669922\n",
      "Close: 8979.259766\n",
      "Volume: 422450000\n",
      "Adj_Close: null\n",
      "daily_range: 9.949163808257087\n",
      "News: null\n",
      "Explanation_report: null\n",
      "\n",
      "Date: '2008-10-15'\n",
      "Open: 9301.910156\n",
      "High: 9308.759766\n",
      "Low: 8530.120117\n",
      "Close: 8577.910156\n",
      "Volume: 374350000\n",
      "Adj_Close: null\n",
      "daily_range: 9.128120569465585\n",
      "News: null\n",
      "Explanation_report: null\n",
      "\n",
      "Date: '2008-11-20'\n",
      "Open: 7995.529785\n",
      "High: 8187.399902\n",
      "Low: 7506.970215\n",
      "Close: 7552.290039\n",
      "Volume: 528130000\n",
      "Adj_Close: null\n",
      "daily_range: 9.06397211541354\n",
      "News: null\n",
      "Explanation_report: null\n",
      "\n",
      "Date: '2008-12-01'\n",
      "Open: 8826.889648\n",
      "High: 8827.049805\n",
      "Low: 8141.359863\n",
      "Close: 8149.089844\n",
      "Volume: 321010000\n",
      "Adj_Close: null\n",
      "daily_range: 8.422302336938241\n",
      "News: null\n",
      "Explanation_report: null\n",
      "\n",
      "\n"
     ]
    }
   ],
   "source": [
    "async def get_highest_volatility_days(states:list[StockMarketState]) -> list[StockMarketState]:\n",
    "    \n",
    "    # sort the states by volatility and return the top 10, define a new AG with these states\n",
    "    return sorted(states, \n",
    "                key=lambda x: abs(x.daily_range) if x.daily_range is not None else 0, \n",
    "                reverse=True)[:10]\n",
    "\n",
    "# apply the reduce function to get the top 10 days with highest volatility\n",
    "highest_volatility_days = await dj_data.areduce(get_highest_volatility_days)\n",
    "print(highest_volatility_days.pretty_print())"
   ]
  },
  {
   "cell_type": "markdown",
   "id": "26496816",
   "metadata": {},
   "source": [
    "## Complex AMAPs\n",
    "\n",
    "aMaps function can contain external API and LLM calls. This way we can use agentics as a scaleout frameworks for complex workflows. "
   ]
  },
  {
   "cell_type": "code",
   "execution_count": 6,
   "id": "7f30733f",
   "metadata": {},
   "outputs": [
    {
     "name": "stderr",
     "output_type": "stream",
     "text": [
      "2025-09-05 07:20:05.097 | DEBUG    | agentics.core.agentics:amap:206 - Executing amap on function <function get_news at 0x10888ef20>\n",
      "2025-09-05 07:20:14.302 | DEBUG    | agentics.core.agentics:amap:231 - 10 states processed. 0.9204371929168701 seconds average per state in the last chunk ...\n"
     ]
    },
    {
     "name": "stdout",
     "output_type": "stream",
     "text": [
      "Date: 2008-10-10, Daily Range: 12.924443321266926, News: [{'title': 'How Are We Doing On Our Stimulus Plan Stocks So Far? -', 'href': 'https://www.altenergystocks.com/archives/2008/12/how_are_we_doing_on_our_stimulus_plan_stocks_so_far_1/', 'body': 'Charles...\n"
     ]
    }
   ],
   "source": [
    "from ddgs import DDGS\n",
    "\n",
    "## Define a function to get news for a given date using the DDGS search engine\n",
    "## Note that the similar functionalities can be implemented using MCP tools in AGs\n",
    "async def get_news(state):\n",
    "    state.News=str(DDGS().text(f\"What happended to the stock market and dow jones on {state.Date}\", max_results=10))\n",
    "    return state    \n",
    "\n",
    "## set the batch size for the amap function to 5 (only 10 states will be processed)\n",
    "highest_volatility_days.batch_size = 10\n",
    "\n",
    "# Now get news for the top 10 days with highest volatility using amap\n",
    "highest_volatility_days = await highest_volatility_days.amap(get_news)\n",
    "\n",
    "# print the first result for brevity\n",
    "print(f\"Date: {highest_volatility_days[0].Date}, Daily Range: {highest_volatility_days[0].daily_range}, News: {highest_volatility_days[0].News[:200]}...\")"
   ]
  },
  {
   "cell_type": "markdown",
   "id": "9cf39b3b",
   "metadata": {},
   "source": [
    "Now let's use self transduction to provide an explanation for the market volatility"
   ]
  },
  {
   "cell_type": "code",
   "execution_count": 7,
   "id": "9ce555e2",
   "metadata": {},
   "outputs": [
    {
     "name": "stderr",
     "output_type": "stream",
     "text": [
      "2025-09-05 07:20:14.307 | DEBUG    | agentics.core.llm_connections:get_llm_provider:29 - No LLM provider specified. Using the first available provider.\n",
      "2025-09-05 07:20:14.307 | DEBUG    | agentics.core.llm_connections:get_llm_provider:31 - Available LLM providers: ['watsonx', 'gemini', 'openai']. Using 'watsonx'\n",
      "2025-09-05 07:20:14.308 | DEBUG    | agentics.core.agentics:__lshift__:518 - Executing task: Explain the reasons why the market went down or up \n",
      "given the high volatility in the stock market on this day based on the news provided. \n",
      "Provide a concise summary.\n",
      "10 states will be transduced\n",
      "2025-09-05 07:20:14.309 | DEBUG    | agentics.core.agentics:__lshift__:612 - transducer class: <class 'agentics.abstractions.pydantic_transducer.PydanticTransducerCrewAI'>\n",
      "2025-09-05 07:20:22.609 | DEBUG    | agentics.core.agentics:__lshift__:648 - Processed 10 states in 8.300536155700684 seconds\n",
      "2025-09-05 07:20:22.610 | DEBUG    | agentics.core.agentics:__lshift__:700 - 10 states processed in 0.8300536155700684 seconds average per state ...\n"
     ]
    },
    {
     "name": "stdout",
     "output_type": "stream",
     "text": [
      "Date: 2008-10-10, Daily Range: 12.924443321266926\n",
      "Explanation: The market went down on this day due to high volatility, which can be attributed to various news articles indicating a decline in investor confidence. The news articles provided suggest a bearish trend, with mentions of the collapse of large financial institutions, downturns in major stock markets, and a general sense of uncertainty. The article 'Bear Sterns Collapse how it happend and what it caused - Essay' specifically mentions the collapse of Bear Stearns and its impact on the global financial crisis, which likely contributed to the market's decline. Additionally, the article 'Royal Oasis Lender Lehman Brothers Collapses | Bahamaspress.com' discusses the collapse of Lehman Brothers, which would have further eroded investor confidence and contributed to the market's downturn. The '10 Signs Of A Stock Market Bottom' article suggests that the market may be nearing a bottom, but this is not enough to counteract the overall bearish sentiment. Overall, the news articles suggest that the market's decline is due to a combination of factors, including the collapse of major financial institutions, downturns in major stock markets, and a general sense of uncertainty among investors....\n",
      "Date: 2008-11-13, Daily Range: 11.439069514507388\n",
      "Explanation: The market went up on the given day, November 13, 2008, as indicated by the 'Close' price of 8835.25 being higher than the 'Open' price of 8281.139648. The high volatility in the stock market on this day can be attributed to the ongoing global financial crisis, which was characterized by a significant decline in the stock market in 2008. According to the provided news, the Dow Jones Industrial Average dropped 445 points on November 20, 2008, and the shares of major US financial institutions, such as Citigroup, plummeted by more than 10%. The crisis led to a 54% plunge in the Dow Jones Industrial Average from its high in October 2007 to its low in March 2009, resulting in a significant loss of net worth for American households and a substantial decline in retirement savings. However, on the specific day of November 13, 2008, the market experienced an upward trend, with the 'Close' price being higher than the 'Open' price, despite the overall downward trend in the stock market during that period....\n",
      "Date: 2008-10-13, Daily Range: 11.413259722782675\n",
      "Explanation: The market went up on this day, as indicated by the 'Close' price being higher than the 'Open' price. The high volatility in the stock market is reflected in the 'daily_range' value of 11.413259722782675. The news articles provided do not give a clear reason for the market's upward movement, but some articles discuss the stimulus plan and its potential effects on stocks. One article mentions that inverse ETFs are down sharply, which could indicate a positive trend in the market. Another article discusses the possibility of a stock market bottom, with stocks available at 'firesale' prices. However, other articles discuss market turbulence, Ponzi schemes, and economic uncertainty, which could contribute to the high volatility. Overall, the market's upward movement on this day may be due to a combination of factors, including the stimulus plan and investor sentiment, but the exact reasons are not clear from the provided news articles....\n",
      "Date: 2008-10-28, Daily Range: 11.099450382090795\n",
      "Explanation: The market went up on the given day, with the Dow Jones Industrial Average gaining 889.35 points (10.88%), rising to 9,065.12. This significant recovery occurred on October 28, 2008, despite the high volatility in the stock market. The news articles provided suggest that the 2008 stock market crash was caused by a speculative bubble, with the Dow Jones Industrial Average falling from its high of 14,164.43 reached on October 9, 2007, to 6,443.27 by March 6, 2009, a 54% plunge in little under 18 months. The crash was triggered by the collapse of large financial institutions, including Bear Stearns, and was exacerbated by concurrent global market declines. However, on October 28, 2008, the market experienced a remarkable recovery, with the Dow Jones Industrial Average gaining 889.35 points. The daily range of the market on this day was 11.099450382090795, and the volume was 372160000. The open price was 8178.720215, the high price was 9082.080078, and the close price was 9065.120117....\n",
      "Date: 2010-05-06, Daily Range: 10.23483819058118\n",
      "Explanation: The market went down on May 6, 2010, due to the 2010 Flash Crash, which was triggered by worries about the debt crisis in Greece. The Dow Jones Industrial Average (DJIA) lost almost 1,000 points in around 10 minutes, but then recovered almost 600 points in the next 30 minutes. The crash was characterized by a rapid decline in stock prices, with the DJIA down 2.5% and liquidity eroding. The flash crash was likely caused by a combination of factors, including high-frequency trading and an unexpected sell-order of 75,000 contracts worth $4.1 billion. The event had a significant impact on the stock market, with the DJIA plunging over 1000 points, representing a decline of over 9% within a couple of minutes....\n",
      "Date: 2008-10-09, Daily Range: 10.12856894936647\n",
      "Explanation: The market went down on October 9, 2008, due to the global financial crisis. The Dow Jones Industrial Average fell from its high of 14,164.43 reached on October 9, 2007, to 6,443.27 by March 6, 2009, a 54% plunge in little under 18 months. The crisis was triggered by a speculative bubble, and the stock market crash destroyed $16.4 trillion of American households' net worth from 2007 through 2009. It wiped out more than $2 trillion of Americans' retirement savings. The biggest single-day crash in Dow Jones history occurred on September 29, 2008, when the U.S. House of Representatives rejected the government's $700 billion bank bailout, causing the Dow to drop 777.68 points (6.98%) and obliterating $1.2 trillion in market value. On October 9, 2008, the stock markets faced one of their worst days, reflecting the severity of the financial crisis at the time, with the Dow closing below 9,000 for the first time in five years....\n",
      "Date: 2008-10-16, Daily Range: 9.949163808257087\n",
      "Explanation: The market went up on this day, as indicated by the 'Close' value of 8979.259766 being higher than the 'Open' value of 8577.040039. The high volatility in the stock market is reflected in the 'daily_range' of 9.949163808257087. However, the provided news does not contain any relevant information about the stock market or economic events that could have caused the market to go up. The news articles are all about the correct spelling and meaning of the word 'happened' versus 'happend', and do not provide any insight into the stock market's performance on this day. Therefore, it is not possible to provide a logical explanation for the market's movement based on the given news....\n",
      "Date: 2008-10-15, Daily Range: 9.128120569465585\n",
      "Explanation: The market went down on this day, as indicated by the 'Close' price being lower than the 'Open' price. The 'Close' price of 8577.910156 is less than the 'Open' price of 9301.910156. This suggests a decline in the market. The high volatility is also evident from the 'daily_range' of 9.128120569465585, which indicates a significant fluctuation in prices throughout the day. However, the provided news does not contain any relevant information about the stock market or its performance on this specific day, as it appears to be related to the correct spelling and meaning of the word 'happened'. Therefore, the exact reasons for the market decline cannot be determined based on the given news....\n",
      "Date: 2008-11-20, Daily Range: 9.06397211541354\n",
      "Explanation: The market went down on November 20, 2008, due to high volatility in the stock market. This can be attributed to several news articles that affected investor confidence. The collapse of Lehman Brothers, as reported by Bahamaspress.com, led to a surge in late payments on loans, eroding confidence in credit products and causing investors to flee to safer assets. Additionally, the news of ICEBOT's price in June 2008 and the comparison of common stocks of BOT, CME, and ICE, as reported by customersandcapital.com, may have contributed to the uncertainty in the market. Furthermore, the article '10 Signs Of A Stock Market Bottom' by thedigeratilife.com suggests that investors were looking for signs of a market bottom, indicating a sense of caution and uncertainty. The overall sentiment of the news articles suggests a bearish outlook, which may have contributed to the decline in the market. The daily range of 9.06397211541354 and the low close of 7552.290039 also indicate a high level of volatility and a downward trend in the market....\n",
      "Date: 2008-12-01, Daily Range: 8.422302336938241\n",
      "Explanation: The market went down on this day, as indicated by the close price (8149.089844) being lower than the open price (8826.889648). The high volatility in the stock market, with a daily range of 8.422302336938241, suggests a significant amount of uncertainty and fluctuation in the market. However, the provided news does not contain any information related to the stock market or economic events that could have caused the market to go down. The news articles are all related to the correct spelling and meaning of the word 'happened' and do not provide any relevant information to explain the market's behavior. Therefore, it is not possible to determine the exact reason for the market's decline based on the provided news....\n"
     ]
    }
   ],
   "source": [
    "from agentics.core.llm_connections import get_llm_provider\n",
    "highest_volatility_days.instructions = \"\"\"Explain the reasons why the market went down or up \n",
    "given the high volatility in the stock market on this day based on the news provided. \n",
    "Provide a concise summary.\"\"\"\n",
    "highest_volatility_days.llm= get_llm_provider() ## You can choose between \"openai\", \"watsonx\", \"gemini\", \"vllm_crewai\"\n",
    "highest_volatility_explanations = await highest_volatility_days.self_transduction(\n",
    "[\"Date\", \"Open\", \"High\", \"Low\", \"Close\", \"Volume\", \"daily_range\", \"News\"],[\"Explanation_report\"])\n",
    "\n",
    "for state in highest_volatility_explanations: \n",
    "    print(f\"Date: {state.Date}, Daily Range: {state.daily_range}\\nExplanation: {state.Explanation_report}...\")"
   ]
  },
  {
   "cell_type": "markdown",
   "id": "00ae3253",
   "metadata": {},
   "source": [
    "## Well Done\n",
    "You are now fully equipped to work with agentics and apply it to your data.\n",
    "Congratulations and please contribute back to the community if you feel this is exciting. "
   ]
  }
 ],
 "metadata": {
  "kernelspec": {
   "display_name": ".venv",
   "language": "python",
   "name": "python3"
  },
  "language_info": {
   "codemirror_mode": {
    "name": "ipython",
    "version": 3
   },
   "file_extension": ".py",
   "mimetype": "text/x-python",
   "name": "python",
   "nbconvert_exporter": "python",
   "pygments_lexer": "ipython3",
   "version": "3.12.9"
  }
 },
 "nbformat": 4,
 "nbformat_minor": 5
}
